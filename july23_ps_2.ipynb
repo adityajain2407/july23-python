{
  "nbformat": 4,
  "nbformat_minor": 0,
  "metadata": {
    "colab": {
      "provenance": [],
      "authorship_tag": "ABX9TyPw2gCTkoMDx2qNhHpPkT/O",
      "include_colab_link": true
    },
    "kernelspec": {
      "name": "python3",
      "display_name": "Python 3"
    },
    "language_info": {
      "name": "python"
    }
  },
  "cells": [
    {
      "cell_type": "markdown",
      "metadata": {
        "id": "view-in-github",
        "colab_type": "text"
      },
      "source": [
        "<a href=\"https://colab.research.google.com/github/adityajain2407/july23-python/blob/main/july23_ps_2.ipynb\" target=\"_parent\"><img src=\"https://colab.research.google.com/assets/colab-badge.svg\" alt=\"Open In Colab\"/></a>"
      ]
    },
    {
      "cell_type": "code",
      "execution_count": null,
      "metadata": {
        "id": "75esgWS2kULR"
      },
      "outputs": [],
      "source": [
        "#concept- name of the conept\n",
        "#assign  - name of the topic - the question name"
      ]
    },
    {
      "cell_type": "code",
      "source": [
        "#Revision of GCD code"
      ],
      "metadata": {
        "id": "8gS3ylwLmwix"
      },
      "execution_count": null,
      "outputs": []
    },
    {
      "cell_type": "code",
      "source": [
        "a = 16\n",
        "b = 24"
      ],
      "metadata": {
        "id": "Pjr-0eBKrjMe"
      },
      "execution_count": null,
      "outputs": []
    },
    {
      "cell_type": "code",
      "source": [
        "x = min(a,b)"
      ],
      "metadata": {
        "id": "-cbh6MpdrElA"
      },
      "execution_count": null,
      "outputs": []
    },
    {
      "cell_type": "code",
      "source": [
        "print(x)"
      ],
      "metadata": {
        "colab": {
          "base_uri": "https://localhost:8080/"
        },
        "id": "fjHKfQQPrHes",
        "outputId": "3ce99ac7-f806-48fa-b51f-868877e73d94"
      },
      "execution_count": null,
      "outputs": [
        {
          "output_type": "stream",
          "name": "stdout",
          "text": [
            "16\n"
          ]
        }
      ]
    },
    {
      "cell_type": "code",
      "source": [
        "#code to print all the common divisors\n",
        "for i in range(x, 0, -1):\n",
        "  #check if i divides both the numbers\n",
        "  if a%i == 0 and b%i == 0:\n",
        "    print(i)"
      ],
      "metadata": {
        "colab": {
          "base_uri": "https://localhost:8080/"
        },
        "id": "yDA5SU1rrK6e",
        "outputId": "1595922f-034c-4121-bb4c-153e1c7a8a23"
      },
      "execution_count": null,
      "outputs": [
        {
          "output_type": "stream",
          "name": "stdout",
          "text": [
            "8\n",
            "4\n",
            "2\n",
            "1\n"
          ]
        }
      ]
    },
    {
      "cell_type": "code",
      "source": [
        "#code to print the GCD\n",
        "for i in range(x, 0, -1):\n",
        "  #check if i divides both the numbers\n",
        "  if a%i == 0 and b%i == 0:\n",
        "    print(i)\n",
        "    break"
      ],
      "metadata": {
        "colab": {
          "base_uri": "https://localhost:8080/"
        },
        "id": "eKcvw4RprSph",
        "outputId": "c2896660-604a-4c16-9776-ad0a2279a3ec"
      },
      "execution_count": null,
      "outputs": [
        {
          "output_type": "stream",
          "name": "stdout",
          "text": [
            "8\n"
          ]
        }
      ]
    },
    {
      "cell_type": "code",
      "source": [
        "#Given a number n, find the sum of digits of that number"
      ],
      "metadata": {
        "id": "PQrm1fdOrw-C"
      },
      "execution_count": null,
      "outputs": []
    },
    {
      "cell_type": "code",
      "source": [
        "# Eg:\n",
        "# ip: 475\n",
        "# op: 4 + 7 + 5 = 16"
      ],
      "metadata": {
        "id": "eW7c7yaftFNt"
      },
      "execution_count": null,
      "outputs": []
    },
    {
      "cell_type": "code",
      "source": [
        "n = 475\n",
        "sum = 0\n",
        "\n",
        "while n > 0:\n",
        "  last_digit = n%10\n",
        "  sum += last_digit\n",
        "  n = n//10\n",
        "\n",
        "print(sum)"
      ],
      "metadata": {
        "colab": {
          "base_uri": "https://localhost:8080/"
        },
        "id": "AQM7pOEqtPdJ",
        "outputId": "39e71a42-d12f-44af-d611-3324af2c72fb"
      },
      "execution_count": null,
      "outputs": [
        {
          "output_type": "stream",
          "name": "stdout",
          "text": [
            "16\n"
          ]
        }
      ]
    },
    {
      "cell_type": "code",
      "source": [
        "n = 475\n",
        "sum = 0\n",
        "\n",
        "while n > 0:\n",
        "  last_digit = n%10\n",
        "  sum += last_digit\n",
        "  n = n//10\n",
        "  print(\"n =\", n, \"last_digit =\", last_digit)\n",
        "\n",
        "print(sum)"
      ],
      "metadata": {
        "colab": {
          "base_uri": "https://localhost:8080/"
        },
        "id": "Bl3Xv7GYvhex",
        "outputId": "a2a655b1-b0c8-48d3-f54b-d0ac9dff9825"
      },
      "execution_count": null,
      "outputs": [
        {
          "output_type": "stream",
          "name": "stdout",
          "text": [
            "n = 47 last_digit = 5\n",
            "n = 4 last_digit = 7\n",
            "n = 0 last_digit = 4\n",
            "16\n"
          ]
        }
      ]
    },
    {
      "cell_type": "code",
      "source": [
        "#Given a number i, print i * in a single row"
      ],
      "metadata": {
        "id": "8YsGEoadvz2z"
      },
      "execution_count": null,
      "outputs": []
    },
    {
      "cell_type": "code",
      "source": [
        "i = 7\n",
        "\n",
        "for j in range(i):\n",
        "  print(\"*\", end = \"\")"
      ],
      "metadata": {
        "colab": {
          "base_uri": "https://localhost:8080/"
        },
        "id": "vuyV8cdiyCLY",
        "outputId": "dfafd53c-717a-41ce-dc0a-422c0edb8af0"
      },
      "execution_count": null,
      "outputs": [
        {
          "output_type": "stream",
          "name": "stdout",
          "text": [
            "*******"
          ]
        }
      ]
    },
    {
      "cell_type": "code",
      "source": [
        "n = 5\n",
        "for i in range(1, n+1):\n",
        "\n",
        "  #print i number of stars\n",
        "  for j in range(i):\n",
        "    print(\"*\", end = \"\")\n",
        "\n",
        "  print(\"\")\n"
      ],
      "metadata": {
        "colab": {
          "base_uri": "https://localhost:8080/"
        },
        "id": "delHpoDLyJcg",
        "outputId": "0042bec7-f42b-4e55-eafd-d6f36ea440f7"
      },
      "execution_count": null,
      "outputs": [
        {
          "output_type": "stream",
          "name": "stdout",
          "text": [
            "*\n",
            "**\n",
            "***\n",
            "****\n",
            "*****\n"
          ]
        }
      ]
    },
    {
      "cell_type": "code",
      "source": [
        "#doubt\n",
        "\n",
        "print(1)\n",
        "print(2)\n",
        "print(3)"
      ],
      "metadata": {
        "colab": {
          "base_uri": "https://localhost:8080/"
        },
        "id": "nJTKKKf5ydyQ",
        "outputId": "891adb41-2473-4ecb-be4c-111ecb35c8b6"
      },
      "execution_count": null,
      "outputs": [
        {
          "output_type": "stream",
          "name": "stdout",
          "text": [
            "1\n",
            "2\n",
            "3\n"
          ]
        }
      ]
    },
    {
      "cell_type": "code",
      "source": [
        "print(\"*\", end = \"\")\n",
        "print(\"1\")"
      ],
      "metadata": {
        "colab": {
          "base_uri": "https://localhost:8080/"
        },
        "id": "uFjOW9Y3zRGv",
        "outputId": "2c01555f-c543-44c0-a3ae-21a7f214e21f"
      },
      "execution_count": null,
      "outputs": [
        {
          "output_type": "stream",
          "name": "stdout",
          "text": [
            "*1\n"
          ]
        }
      ]
    },
    {
      "cell_type": "code",
      "source": [
        "# Resume"
      ],
      "metadata": {
        "id": "7lPiTRvfzVW7"
      },
      "execution_count": null,
      "outputs": []
    },
    {
      "cell_type": "code",
      "source": [
        "t = int(input())\n",
        "\n",
        "while t > 0:\n",
        "\n",
        "  a = int(input())\n",
        "  b = int(input())\n",
        "\n",
        "  #find and print HCF of a, b\n",
        "\n",
        "\n",
        "  t -= 1"
      ],
      "metadata": {
        "id": "2aNM7Lra2l4x"
      },
      "execution_count": null,
      "outputs": []
    },
    {
      "cell_type": "code",
      "source": [
        "T = int(input())\n",
        "for j in range(T):\n",
        "  A = int(input())\n",
        "  B = int(input())\n",
        "  ans = 0\n",
        "  X = min(A,B)\n",
        "  for i in range(1,X+1):\n",
        "    if A % i == 0 and B % i == 0:\n",
        "      ans = i\n",
        "\n",
        "\n",
        "  print(ans)"
      ],
      "metadata": {
        "colab": {
          "base_uri": "https://localhost:8080/"
        },
        "id": "L8DSH4wa2_Nz",
        "outputId": "ecfd25f5-978d-49d7-8c4b-a446ec1b5b1e"
      },
      "execution_count": null,
      "outputs": [
        {
          "output_type": "stream",
          "name": "stdout",
          "text": [
            "2\n",
            "15\n",
            "105\n",
            "15\n",
            "24\n",
            "36\n",
            "12\n"
          ]
        }
      ]
    },
    {
      "cell_type": "code",
      "source": [
        "#print all the odd numbers from 1 to n, both inclusive\n",
        "#while loop"
      ],
      "metadata": {
        "id": "ng1y3CXT3Wqw"
      },
      "execution_count": null,
      "outputs": []
    },
    {
      "cell_type": "code",
      "source": [
        "i = 1\n",
        "n = 8\n",
        "while i <= n:\n",
        "  if i%2 == 1:\n",
        "    print(i)\n",
        "\n",
        "  i += 1"
      ],
      "metadata": {
        "colab": {
          "base_uri": "https://localhost:8080/"
        },
        "id": "2e1hDDoo8hxJ",
        "outputId": "4cad9779-481c-426f-9b85-c34af9f44a10"
      },
      "execution_count": null,
      "outputs": [
        {
          "output_type": "stream",
          "name": "stdout",
          "text": [
            "1\n",
            "3\n",
            "5\n",
            "7\n"
          ]
        }
      ]
    },
    {
      "cell_type": "code",
      "source": [
        "for i in range(1, n+1):\n",
        "  if i%2 == 1:\n",
        "    print(i)"
      ],
      "metadata": {
        "colab": {
          "base_uri": "https://localhost:8080/"
        },
        "id": "UK-rChTe8qEz",
        "outputId": "ca12bb2b-8503-44d5-8cb1-9757f22f3cf6"
      },
      "execution_count": null,
      "outputs": [
        {
          "output_type": "stream",
          "name": "stdout",
          "text": [
            "1\n",
            "3\n",
            "5\n",
            "7\n"
          ]
        }
      ]
    },
    {
      "cell_type": "code",
      "source": [
        "#while without if\n",
        "i = 1\n",
        "n = 8\n",
        "while i <= n:\n",
        "  print(i)\n",
        "  i += 2"
      ],
      "metadata": {
        "colab": {
          "base_uri": "https://localhost:8080/"
        },
        "id": "3utB8yKt85JX",
        "outputId": "84ce5018-ab8f-40bb-9f4d-9a5a93350c75"
      },
      "execution_count": null,
      "outputs": [
        {
          "output_type": "stream",
          "name": "stdout",
          "text": [
            "1\n",
            "3\n",
            "5\n",
            "7\n"
          ]
        }
      ]
    },
    {
      "cell_type": "code",
      "source": [
        "#for loop without using if\n",
        "for i in range(1, n+1, 2):\n",
        "    print(i)"
      ],
      "metadata": {
        "colab": {
          "base_uri": "https://localhost:8080/"
        },
        "id": "eGwnzUP89Ean",
        "outputId": "790f692c-6ade-466e-8c49-82dd71d7486e"
      },
      "execution_count": null,
      "outputs": [
        {
          "output_type": "stream",
          "name": "stdout",
          "text": [
            "1\n",
            "3\n",
            "5\n",
            "7\n"
          ]
        }
      ]
    },
    {
      "cell_type": "code",
      "source": [],
      "metadata": {
        "id": "KxGj4du09hXR"
      },
      "execution_count": null,
      "outputs": []
    }
  ]
}