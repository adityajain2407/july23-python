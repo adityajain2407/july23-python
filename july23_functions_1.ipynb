{
  "nbformat": 4,
  "nbformat_minor": 0,
  "metadata": {
    "colab": {
      "provenance": [],
      "authorship_tag": "ABX9TyNfVstNiHho/MagKurOCNgz",
      "include_colab_link": true
    },
    "kernelspec": {
      "name": "python3",
      "display_name": "Python 3"
    },
    "language_info": {
      "name": "python"
    }
  },
  "cells": [
    {
      "cell_type": "markdown",
      "metadata": {
        "id": "view-in-github",
        "colab_type": "text"
      },
      "source": [
        "<a href=\"https://colab.research.google.com/github/adityajain2407/july23-python/blob/main/july23_functions_1.ipynb\" target=\"_parent\"><img src=\"https://colab.research.google.com/assets/colab-badge.svg\" alt=\"Open In Colab\"/></a>"
      ]
    },
    {
      "cell_type": "code",
      "execution_count": 1,
      "metadata": {
        "colab": {
          "base_uri": "https://localhost:8080/"
        },
        "id": "AeG9tlYc7TCq",
        "outputId": "06a54580-164c-44d2-ddd7-c1f6efe51b87"
      },
      "outputs": [
        {
          "output_type": "stream",
          "name": "stdout",
          "text": [
            "Dust all the rooms\n",
            "Arrange the living area\n",
            "Don't misbehave in fron of the guests\n",
            "Greet them when they enter\n"
          ]
        }
      ],
      "source": [
        "print(\"Dust all the rooms\")\n",
        "print(\"Arrange the living area\")\n",
        "print(\"Don't misbehave in fron of the guests\")\n",
        "print(\"Greet them when they enter\")"
      ]
    },
    {
      "cell_type": "code",
      "source": [
        "print(\"Dust all the rooms\")\n",
        "print(\"Arrange the living area\")\n",
        "print(\"Don't misbehave in fron of the guests\")\n",
        "print(\"Greet them when they enter\")"
      ],
      "metadata": {
        "colab": {
          "base_uri": "https://localhost:8080/"
        },
        "id": "tL8Hk2468Sla",
        "outputId": "3a6d653f-5b46-4a48-b334-2066103e1828"
      },
      "execution_count": 2,
      "outputs": [
        {
          "output_type": "stream",
          "name": "stdout",
          "text": [
            "Dust all the rooms\n",
            "Arrange the living area\n",
            "Don't misbehave in fron of the guests\n",
            "Greet them when they enter\n"
          ]
        }
      ]
    },
    {
      "cell_type": "code",
      "source": [
        "print(\"Dust all the rooms\")\n",
        "print(\"Arrange the living area\")\n",
        "print(\"Don't misbehave in fron of the guests\")\n",
        "print(\"Greet them when they enter\")"
      ],
      "metadata": {
        "colab": {
          "base_uri": "https://localhost:8080/"
        },
        "id": "x07y5MnY8VLH",
        "outputId": "e13ddd09-f787-4e99-d05e-5a3a3162b699"
      },
      "execution_count": 3,
      "outputs": [
        {
          "output_type": "stream",
          "name": "stdout",
          "text": [
            "Dust all the rooms\n",
            "Arrange the living area\n",
            "Don't misbehave in fron of the guests\n",
            "Greet them when they enter\n"
          ]
        }
      ]
    },
    {
      "cell_type": "code",
      "source": [
        "#Functions--> designed to perform a designated functionality/task"
      ],
      "metadata": {
        "id": "x11JVh0D8XAH"
      },
      "execution_count": 5,
      "outputs": []
    },
    {
      "cell_type": "code",
      "source": [
        "#syntax"
      ],
      "metadata": {
        "id": "f7YjDX-W8h4H"
      },
      "execution_count": 6,
      "outputs": []
    },
    {
      "cell_type": "code",
      "source": [
        "def guest_preparation():\n",
        "  print(\"Dust all the rooms\")\n",
        "  print(\"Arrange the living area\")\n",
        "  print(\"Don't misbehave in front of the guests\")\n",
        "  print(\"Greet them once they enter\")"
      ],
      "metadata": {
        "id": "4lFK-noj8sA1"
      },
      "execution_count": 7,
      "outputs": []
    },
    {
      "cell_type": "code",
      "source": [
        "guest_preparation() #function calling"
      ],
      "metadata": {
        "colab": {
          "base_uri": "https://localhost:8080/"
        },
        "id": "A8K7lhf89fk0",
        "outputId": "5d611c5e-bf80-4a11-b44f-0894e40c060d"
      },
      "execution_count": 9,
      "outputs": [
        {
          "output_type": "stream",
          "name": "stdout",
          "text": [
            "Dust all the rooms\n",
            "Arrange the living area\n",
            "Don't misbehave in front of the guests\n",
            "Greet them once they enter\n"
          ]
        }
      ]
    },
    {
      "cell_type": "code",
      "source": [
        "guest_preparation() #function calling"
      ],
      "metadata": {
        "colab": {
          "base_uri": "https://localhost:8080/"
        },
        "id": "TZHtPDCw94pA",
        "outputId": "902c57c7-cd19-4465-8cb1-6a1800935f4b"
      },
      "execution_count": 10,
      "outputs": [
        {
          "output_type": "stream",
          "name": "stdout",
          "text": [
            "Dust all the rooms\n",
            "Arrange the living area\n",
            "Don't misbehave in front of the guests\n",
            "Greet them once they enter\n"
          ]
        }
      ]
    },
    {
      "cell_type": "code",
      "source": [
        "guest_preparation() #function calling"
      ],
      "metadata": {
        "colab": {
          "base_uri": "https://localhost:8080/"
        },
        "id": "KF2ck-fJ-FMb",
        "outputId": "96db7760-0337-4921-fb0a-da4572c6283f"
      },
      "execution_count": 11,
      "outputs": [
        {
          "output_type": "stream",
          "name": "stdout",
          "text": [
            "Dust all the rooms\n",
            "Arrange the living area\n",
            "Don't misbehave in front of the guests\n",
            "Greet them once they enter\n"
          ]
        }
      ]
    },
    {
      "cell_type": "code",
      "source": [
        "def solve():\n",
        "  print(\"1\")\n",
        "  print(\"2\")\n",
        "\n",
        "print(\"3\")"
      ],
      "metadata": {
        "colab": {
          "base_uri": "https://localhost:8080/"
        },
        "id": "HT_YIz27-G12",
        "outputId": "f1568e60-8ceb-4caf-91e4-a87a339fa72e"
      },
      "execution_count": 12,
      "outputs": [
        {
          "output_type": "stream",
          "name": "stdout",
          "text": [
            "3\n"
          ]
        }
      ]
    },
    {
      "cell_type": "code",
      "source": [
        "solve() #function calling"
      ],
      "metadata": {
        "colab": {
          "base_uri": "https://localhost:8080/"
        },
        "id": "Q-xoZNEZ_QGV",
        "outputId": "cf45706e-79ef-421a-bbe3-4a0b71b4ee0b"
      },
      "execution_count": 13,
      "outputs": [
        {
          "output_type": "stream",
          "name": "stdout",
          "text": [
            "1\n",
            "2\n"
          ]
        }
      ]
    },
    {
      "cell_type": "code",
      "source": [
        "def greet():\n",
        "  print(\"Welcome to the app AJ\")"
      ],
      "metadata": {
        "id": "cp4MTHR-_b5v"
      },
      "execution_count": 14,
      "outputs": []
    },
    {
      "cell_type": "code",
      "source": [
        "greet()"
      ],
      "metadata": {
        "colab": {
          "base_uri": "https://localhost:8080/"
        },
        "id": "wqabz8BX_oEw",
        "outputId": "b9c831c9-9c04-4475-f1b0-6add6027f8cd"
      },
      "execution_count": 15,
      "outputs": [
        {
          "output_type": "stream",
          "name": "stdout",
          "text": [
            "Welcome to the app AJ\n"
          ]
        }
      ]
    },
    {
      "cell_type": "code",
      "source": [
        "'''\n",
        "Question:\n",
        "Take a name as an input\n",
        "Write a greeting function that prints \"Hello name\" after accepting the name as a parameter\n",
        "\n",
        "ip: AJ\n",
        "op: Hello AJ\n",
        "\n",
        "ip: Vinit\n",
        "op: Hello Vinit\n",
        "'''"
      ],
      "metadata": {
        "colab": {
          "base_uri": "https://localhost:8080/",
          "height": 35
        },
        "id": "n6echeU1_s7p",
        "outputId": "a291920a-97ce-4e8e-920d-3781ff59d6e3"
      },
      "execution_count": 16,
      "outputs": [
        {
          "output_type": "execute_result",
          "data": {
            "text/plain": [
              "'\\nQuestion:\\nTake a name as an input\\nWrite a greeting function that prints \"Hello name\" after accepting the name as a parameter\\n\\nip: AJ\\nop: Hello AJ\\n\\nip: Vinit\\nop: Hello Vinit\\n'"
            ],
            "application/vnd.google.colaboratory.intrinsic+json": {
              "type": "string"
            }
          },
          "metadata": {},
          "execution_count": 16
        }
      ]
    },
    {
      "cell_type": "code",
      "source": [
        "name = input()"
      ],
      "metadata": {
        "colab": {
          "base_uri": "https://localhost:8080/"
        },
        "id": "WoVheZIv_-Vu",
        "outputId": "36fd5b52-9222-4cc8-ac12-8dadfb54d042"
      },
      "execution_count": 17,
      "outputs": [
        {
          "name": "stdout",
          "output_type": "stream",
          "text": [
            "AJ\n"
          ]
        }
      ]
    },
    {
      "cell_type": "code",
      "source": [
        "print(name)"
      ],
      "metadata": {
        "colab": {
          "base_uri": "https://localhost:8080/"
        },
        "id": "C2VNPkPqADUo",
        "outputId": "32b84cff-d04e-4844-ce76-acf6c1f47dd2"
      },
      "execution_count": 18,
      "outputs": [
        {
          "output_type": "stream",
          "name": "stdout",
          "text": [
            "AJ\n"
          ]
        }
      ]
    },
    {
      "cell_type": "code",
      "source": [
        "def greet_person():\n",
        "  print(\"Hello name\")"
      ],
      "metadata": {
        "id": "-M_5TjEAAFst"
      },
      "execution_count": 19,
      "outputs": []
    },
    {
      "cell_type": "code",
      "source": [
        "greet_person()"
      ],
      "metadata": {
        "colab": {
          "base_uri": "https://localhost:8080/"
        },
        "id": "ZbK72ZaAAWoW",
        "outputId": "a1bb8332-e115-40e3-b480-408e03ef6e13"
      },
      "execution_count": 20,
      "outputs": [
        {
          "output_type": "stream",
          "name": "stdout",
          "text": [
            "Hello name\n"
          ]
        }
      ]
    },
    {
      "cell_type": "code",
      "source": [
        "def greet_person(name):\n",
        "  print(\"Hello\", name)"
      ],
      "metadata": {
        "id": "V1Bf3nbPAbJ3"
      },
      "execution_count": 21,
      "outputs": []
    },
    {
      "cell_type": "code",
      "source": [
        "greet_person(\"AJ\")"
      ],
      "metadata": {
        "colab": {
          "base_uri": "https://localhost:8080/"
        },
        "id": "6IPudBJqAoD0",
        "outputId": "43f80b4b-5f14-4117-afa1-1a469fbd04cf"
      },
      "execution_count": 22,
      "outputs": [
        {
          "output_type": "stream",
          "name": "stdout",
          "text": [
            "Hello AJ\n"
          ]
        }
      ]
    },
    {
      "cell_type": "code",
      "source": [
        "greet_person(\"Vinit\")"
      ],
      "metadata": {
        "colab": {
          "base_uri": "https://localhost:8080/"
        },
        "id": "0sCJ3P7kArc9",
        "outputId": "f3109522-2a86-4dac-d846-0d13915bb091"
      },
      "execution_count": 23,
      "outputs": [
        {
          "output_type": "stream",
          "name": "stdout",
          "text": [
            "Hello Vinit\n"
          ]
        }
      ]
    },
    {
      "cell_type": "code",
      "source": [
        "greet_person(\"Ravin\")"
      ],
      "metadata": {
        "colab": {
          "base_uri": "https://localhost:8080/"
        },
        "id": "cRAHRuDgAy3t",
        "outputId": "eed73f19-958d-42b2-93aa-4a8891a3f103"
      },
      "execution_count": 24,
      "outputs": [
        {
          "output_type": "stream",
          "name": "stdout",
          "text": [
            "Hello Ravin\n"
          ]
        }
      ]
    },
    {
      "cell_type": "code",
      "source": [
        "n = \"AJ\"\n",
        "greet_person(n)"
      ],
      "metadata": {
        "colab": {
          "base_uri": "https://localhost:8080/"
        },
        "id": "dHbQfSEwA0T9",
        "outputId": "5fb468cb-3755-43ac-e781-1a4292151ee5"
      },
      "execution_count": 25,
      "outputs": [
        {
          "output_type": "stream",
          "name": "stdout",
          "text": [
            "Hello AJ\n"
          ]
        }
      ]
    },
    {
      "cell_type": "code",
      "source": [
        "#Example"
      ],
      "metadata": {
        "id": "LApkxWu4BBTp"
      },
      "execution_count": 26,
      "outputs": []
    },
    {
      "cell_type": "code",
      "source": [
        "'''\n",
        "Create a function to print the specifications of a car\n",
        "\n",
        "Color\n",
        "Brand\n",
        "Price\n",
        "'''"
      ],
      "metadata": {
        "colab": {
          "base_uri": "https://localhost:8080/",
          "height": 35
        },
        "id": "yF4lBJiDBPhH",
        "outputId": "ecf9f23f-8f76-43d1-e2bc-31ab6a5c15b2"
      },
      "execution_count": 28,
      "outputs": [
        {
          "output_type": "execute_result",
          "data": {
            "text/plain": [
              "'\\nCreate a function to print the specifications of a car\\n\\nColor\\nBrand\\nPrice\\n'"
            ],
            "application/vnd.google.colaboratory.intrinsic+json": {
              "type": "string"
            }
          },
          "metadata": {},
          "execution_count": 28
        }
      ]
    },
    {
      "cell_type": "code",
      "source": [
        "def car_specs(color, brand, price):\n",
        "  print(\"Color is\", color)\n",
        "  print(\"Brand is\", brand)\n",
        "  print(\"Price is\", price)"
      ],
      "metadata": {
        "id": "SGBEfVdZBUX0"
      },
      "execution_count": 30,
      "outputs": []
    },
    {
      "cell_type": "code",
      "source": [
        "car_specs(\"Red\", \"Maruti\", 200) #positional arguments"
      ],
      "metadata": {
        "colab": {
          "base_uri": "https://localhost:8080/"
        },
        "id": "tO2PKxn8BigQ",
        "outputId": "654dbd92-83ed-432d-bd9a-37496206ef28"
      },
      "execution_count": 32,
      "outputs": [
        {
          "output_type": "stream",
          "name": "stdout",
          "text": [
            "Color is Red\n",
            "Brand is Maruti\n",
            "Price is 200\n"
          ]
        }
      ]
    },
    {
      "cell_type": "code",
      "source": [
        "car_specs(\"Blue\", \"TATA\", 400) #positional arguments"
      ],
      "metadata": {
        "colab": {
          "base_uri": "https://localhost:8080/"
        },
        "id": "J--qu1kPBwtt",
        "outputId": "7683c8c4-7333-4fb1-b3d8-4d779dffa7af"
      },
      "execution_count": 33,
      "outputs": [
        {
          "output_type": "stream",
          "name": "stdout",
          "text": [
            "Color is Blue\n",
            "Brand is TATA\n",
            "Price is 400\n"
          ]
        }
      ]
    },
    {
      "cell_type": "code",
      "source": [
        "car_specs(\"TATA\", \"Blue\", 400) #positional arguments"
      ],
      "metadata": {
        "colab": {
          "base_uri": "https://localhost:8080/"
        },
        "id": "sGKuvfR5CQ9M",
        "outputId": "20dbc119-6285-49fe-bafb-ac9ac70f2469"
      },
      "execution_count": 34,
      "outputs": [
        {
          "output_type": "stream",
          "name": "stdout",
          "text": [
            "Color is TATA\n",
            "Brand is Blue\n",
            "Price is 400\n"
          ]
        }
      ]
    },
    {
      "cell_type": "code",
      "source": [
        "def car_specs(color, brand, price):\n",
        "  print(\"Color is\", color)\n",
        "  print(\"Brand is\", brand)\n",
        "  print(\"Price is\", price)"
      ],
      "metadata": {
        "id": "kPubyjwcC45U"
      },
      "execution_count": 35,
      "outputs": []
    },
    {
      "cell_type": "code",
      "source": [
        "car_specs(\"Blue\", \"Maruti\")"
      ],
      "metadata": {
        "colab": {
          "base_uri": "https://localhost:8080/",
          "height": 176
        },
        "id": "Vf1lQQgkCZ-e",
        "outputId": "43fcf9c1-1a6a-4b7f-9f44-cc0a29f0c221"
      },
      "execution_count": 36,
      "outputs": [
        {
          "output_type": "error",
          "ename": "TypeError",
          "evalue": "ignored",
          "traceback": [
            "\u001b[0;31m---------------------------------------------------------------------------\u001b[0m",
            "\u001b[0;31mTypeError\u001b[0m                                 Traceback (most recent call last)",
            "\u001b[0;32m<ipython-input-36-34b364ea64e0>\u001b[0m in \u001b[0;36m<cell line: 1>\u001b[0;34m()\u001b[0m\n\u001b[0;32m----> 1\u001b[0;31m \u001b[0mcar_specs\u001b[0m\u001b[0;34m(\u001b[0m\u001b[0;34m\"Blue\"\u001b[0m\u001b[0;34m,\u001b[0m \u001b[0;34m\"Maruti\"\u001b[0m\u001b[0;34m)\u001b[0m\u001b[0;34m\u001b[0m\u001b[0;34m\u001b[0m\u001b[0m\n\u001b[0m",
            "\u001b[0;31mTypeError\u001b[0m: car_specs() missing 1 required positional argument: 'price'"
          ]
        }
      ]
    },
    {
      "cell_type": "code",
      "source": [
        "car_specs(\"Blue\", \"Maruti\", 500)"
      ],
      "metadata": {
        "colab": {
          "base_uri": "https://localhost:8080/"
        },
        "id": "393H2FmBC91J",
        "outputId": "654ba25c-2a6f-4f0b-e3d3-bcbf7860cad1"
      },
      "execution_count": 37,
      "outputs": [
        {
          "output_type": "stream",
          "name": "stdout",
          "text": [
            "Color is Blue\n",
            "Brand is Maruti\n",
            "Price is 500\n"
          ]
        }
      ]
    },
    {
      "cell_type": "code",
      "source": [
        "car_specs(\"Blue\", \"Maruti\", 500, 9)"
      ],
      "metadata": {
        "colab": {
          "base_uri": "https://localhost:8080/",
          "height": 176
        },
        "id": "oDF5TqRiDP9H",
        "outputId": "0bc85f03-5067-454f-f2b4-385348ec1696"
      },
      "execution_count": 38,
      "outputs": [
        {
          "output_type": "error",
          "ename": "TypeError",
          "evalue": "ignored",
          "traceback": [
            "\u001b[0;31m---------------------------------------------------------------------------\u001b[0m",
            "\u001b[0;31mTypeError\u001b[0m                                 Traceback (most recent call last)",
            "\u001b[0;32m<ipython-input-38-aa1a96685f8f>\u001b[0m in \u001b[0;36m<cell line: 1>\u001b[0;34m()\u001b[0m\n\u001b[0;32m----> 1\u001b[0;31m \u001b[0mcar_specs\u001b[0m\u001b[0;34m(\u001b[0m\u001b[0;34m\"Blue\"\u001b[0m\u001b[0;34m,\u001b[0m \u001b[0;34m\"Maruti\"\u001b[0m\u001b[0;34m,\u001b[0m \u001b[0;36m500\u001b[0m\u001b[0;34m,\u001b[0m \u001b[0;36m9\u001b[0m\u001b[0;34m)\u001b[0m\u001b[0;34m\u001b[0m\u001b[0;34m\u001b[0m\u001b[0m\n\u001b[0m",
            "\u001b[0;31mTypeError\u001b[0m: car_specs() takes 3 positional arguments but 4 were given"
          ]
        }
      ]
    },
    {
      "cell_type": "code",
      "source": [
        "#Quiz"
      ],
      "metadata": {
        "id": "mMN6HRm5DhTd"
      },
      "execution_count": 39,
      "outputs": []
    },
    {
      "cell_type": "code",
      "source": [
        "def solve(a, b, c):\n",
        "  print(a)\n",
        "  print(b)\n",
        "  print(c)"
      ],
      "metadata": {
        "id": "W0HHj8-mEJm8"
      },
      "execution_count": 40,
      "outputs": []
    },
    {
      "cell_type": "code",
      "source": [
        "solve(1,5,2)"
      ],
      "metadata": {
        "colab": {
          "base_uri": "https://localhost:8080/"
        },
        "id": "rNEsHETnEQu0",
        "outputId": "468c5eac-59a7-4b7e-9986-101bb1d3a2f9"
      },
      "execution_count": 41,
      "outputs": [
        {
          "output_type": "stream",
          "name": "stdout",
          "text": [
            "1\n",
            "5\n",
            "2\n"
          ]
        }
      ]
    },
    {
      "cell_type": "code",
      "source": [
        "solve(1,5)"
      ],
      "metadata": {
        "colab": {
          "base_uri": "https://localhost:8080/",
          "height": 176
        },
        "id": "I9ts9IOYEbAx",
        "outputId": "f2a23ca9-99bc-4238-f53d-f24adb098a64"
      },
      "execution_count": 42,
      "outputs": [
        {
          "output_type": "error",
          "ename": "TypeError",
          "evalue": "ignored",
          "traceback": [
            "\u001b[0;31m---------------------------------------------------------------------------\u001b[0m",
            "\u001b[0;31mTypeError\u001b[0m                                 Traceback (most recent call last)",
            "\u001b[0;32m<ipython-input-42-367d3e0c1c26>\u001b[0m in \u001b[0;36m<cell line: 1>\u001b[0;34m()\u001b[0m\n\u001b[0;32m----> 1\u001b[0;31m \u001b[0msolve\u001b[0m\u001b[0;34m(\u001b[0m\u001b[0;36m1\u001b[0m\u001b[0;34m,\u001b[0m\u001b[0;36m5\u001b[0m\u001b[0;34m)\u001b[0m\u001b[0;34m\u001b[0m\u001b[0;34m\u001b[0m\u001b[0m\n\u001b[0m",
            "\u001b[0;31mTypeError\u001b[0m: solve() missing 1 required positional argument: 'c'"
          ]
        }
      ]
    },
    {
      "cell_type": "code",
      "source": [
        "solve(1,5,2,8)"
      ],
      "metadata": {
        "colab": {
          "base_uri": "https://localhost:8080/",
          "height": 176
        },
        "id": "Qx5KkPAWEggK",
        "outputId": "491a36dd-d990-4f86-8f43-e6684263dca7"
      },
      "execution_count": 43,
      "outputs": [
        {
          "output_type": "error",
          "ename": "TypeError",
          "evalue": "ignored",
          "traceback": [
            "\u001b[0;31m---------------------------------------------------------------------------\u001b[0m",
            "\u001b[0;31mTypeError\u001b[0m                                 Traceback (most recent call last)",
            "\u001b[0;32m<ipython-input-43-0026e2914df3>\u001b[0m in \u001b[0;36m<cell line: 1>\u001b[0;34m()\u001b[0m\n\u001b[0;32m----> 1\u001b[0;31m \u001b[0msolve\u001b[0m\u001b[0;34m(\u001b[0m\u001b[0;36m1\u001b[0m\u001b[0;34m,\u001b[0m\u001b[0;36m5\u001b[0m\u001b[0;34m,\u001b[0m\u001b[0;36m2\u001b[0m\u001b[0;34m,\u001b[0m\u001b[0;36m8\u001b[0m\u001b[0;34m)\u001b[0m\u001b[0;34m\u001b[0m\u001b[0;34m\u001b[0m\u001b[0m\n\u001b[0m",
            "\u001b[0;31mTypeError\u001b[0m: solve() takes 3 positional arguments but 4 were given"
          ]
        }
      ]
    },
    {
      "cell_type": "code",
      "source": [
        "#Quiz: What will be the output of the following code?\n",
        "\n",
        "def factorial(n):\n",
        "    result = 1\n",
        "    while n > 0:\n",
        "        result *= n\n",
        "        n -= 1\n",
        "\n",
        "    print(result)\n",
        "\n",
        "factorial(5)\n",
        "\n",
        "\n",
        "'''\n",
        "Options:\n",
        "A: 40\n",
        "B: 24\n",
        "C: 120\n",
        "D: 100\n",
        "'''"
      ],
      "metadata": {
        "id": "NMsudtENFSwQ"
      },
      "execution_count": null,
      "outputs": []
    },
    {
      "cell_type": "code",
      "source": [
        "def factorial(n):\n",
        "    result = 1\n",
        "    while n > 0:\n",
        "        result *= n\n",
        "        n -= 1\n",
        "\n",
        "    print(result)\n",
        "\n",
        "factorial(5)"
      ],
      "metadata": {
        "colab": {
          "base_uri": "https://localhost:8080/"
        },
        "id": "5peTGg9oGYeB",
        "outputId": "66cec8dc-b8b8-498a-b61a-181794eb4254"
      },
      "execution_count": 45,
      "outputs": [
        {
          "output_type": "stream",
          "name": "stdout",
          "text": [
            "120\n"
          ]
        }
      ]
    },
    {
      "cell_type": "code",
      "source": [
        "#Quiz: What will be the output of the following code?\n",
        "\n",
        "def factorial(n):\n",
        "    result = 1\n",
        "    while n > 0:\n",
        "        result *= n\n",
        "        n -= 1\n",
        "\n",
        "print(factorial(5))"
      ],
      "metadata": {
        "colab": {
          "base_uri": "https://localhost:8080/"
        },
        "id": "eTpXBYsUEn5E",
        "outputId": "0146c363-b2fa-4e4a-a043-2c2435c28a26"
      },
      "execution_count": 46,
      "outputs": [
        {
          "output_type": "stream",
          "name": "stdout",
          "text": [
            "None\n"
          ]
        }
      ]
    },
    {
      "cell_type": "code",
      "source": [
        "#return vs print"
      ],
      "metadata": {
        "id": "whztVXuQE9mx"
      },
      "execution_count": 47,
      "outputs": []
    },
    {
      "cell_type": "code",
      "source": [
        "'''\n",
        "print: show/display the value\n",
        "-> Value is displayed whenever print is called\n",
        "\n",
        "\n",
        "return: actually returns the value\n",
        "-> value can be stored in a variable to be used further\n",
        "'''"
      ],
      "metadata": {
        "colab": {
          "base_uri": "https://localhost:8080/",
          "height": 35
        },
        "id": "GXSFc2iVLD-N",
        "outputId": "72cee2b8-b052-4cdc-eddb-590ed34c7adf"
      },
      "execution_count": 48,
      "outputs": [
        {
          "output_type": "execute_result",
          "data": {
            "text/plain": [
              "'\\nprint: show/display the value\\n-> Value is displayed whenever print is called\\n\\n\\nreturn: actually returns the value\\n-> value can be stored in a variable to be used further\\n'"
            ],
            "application/vnd.google.colaboratory.intrinsic+json": {
              "type": "string"
            }
          },
          "metadata": {},
          "execution_count": 48
        }
      ]
    },
    {
      "cell_type": "code",
      "source": [
        "def accept_money(amount):\n",
        "  print(2*amount)"
      ],
      "metadata": {
        "id": "o1EskoAYLYZG"
      },
      "execution_count": 57,
      "outputs": []
    },
    {
      "cell_type": "code",
      "source": [
        "accept_money(100)"
      ],
      "metadata": {
        "colab": {
          "base_uri": "https://localhost:8080/"
        },
        "id": "t8fQn1neL3o4",
        "outputId": "fdc809f5-da01-47c6-de6a-4a04201d2c4a"
      },
      "execution_count": 58,
      "outputs": [
        {
          "output_type": "stream",
          "name": "stdout",
          "text": [
            "200\n"
          ]
        }
      ]
    },
    {
      "cell_type": "code",
      "source": [
        "wallet = accept_money(100)"
      ],
      "metadata": {
        "colab": {
          "base_uri": "https://localhost:8080/"
        },
        "id": "TSTDOVU8L9nm",
        "outputId": "80ef7285-9165-4473-f9e1-70e2ea51a8b1"
      },
      "execution_count": 59,
      "outputs": [
        {
          "output_type": "stream",
          "name": "stdout",
          "text": [
            "200\n"
          ]
        }
      ]
    },
    {
      "cell_type": "code",
      "source": [
        "print(wallet)"
      ],
      "metadata": {
        "colab": {
          "base_uri": "https://localhost:8080/"
        },
        "id": "WqIfcczWMNc3",
        "outputId": "5b2e75c3-e428-407d-d914-cff13c20ef7c"
      },
      "execution_count": 60,
      "outputs": [
        {
          "output_type": "stream",
          "name": "stdout",
          "text": [
            "None\n"
          ]
        }
      ]
    },
    {
      "cell_type": "code",
      "source": [
        "#Example2"
      ],
      "metadata": {
        "id": "AZdedDLLMO-H"
      },
      "execution_count": 53,
      "outputs": []
    },
    {
      "cell_type": "code",
      "source": [
        "def accept_money(amount):\n",
        "  return 2*amount"
      ],
      "metadata": {
        "id": "IyK5pjWOMg2t"
      },
      "execution_count": 54,
      "outputs": []
    },
    {
      "cell_type": "code",
      "source": [
        "wallet = accept_money(100)"
      ],
      "metadata": {
        "id": "kqZluEgpMnHg"
      },
      "execution_count": 55,
      "outputs": []
    },
    {
      "cell_type": "code",
      "source": [
        "print(wallet)"
      ],
      "metadata": {
        "colab": {
          "base_uri": "https://localhost:8080/"
        },
        "id": "WZ-5xFlTMtIV",
        "outputId": "03773e4a-a43e-4476-a2a8-1f6f07051ce3"
      },
      "execution_count": 56,
      "outputs": [
        {
          "output_type": "stream",
          "name": "stdout",
          "text": [
            "200\n"
          ]
        }
      ]
    },
    {
      "cell_type": "code",
      "source": [
        "#return --> returns back the value to where it was called from\n",
        "#-> it ends/terminates the function at that line"
      ],
      "metadata": {
        "id": "RVy-qYOFMxmU"
      },
      "execution_count": null,
      "outputs": []
    },
    {
      "cell_type": "code",
      "source": [
        "#Quiz: What will be the value of b after the code is completed"
      ],
      "metadata": {
        "id": "v3CJPttWN03-"
      },
      "execution_count": 62,
      "outputs": []
    },
    {
      "cell_type": "code",
      "source": [
        "def solve(a):\n",
        "  print(2*a)\n",
        "  return 1"
      ],
      "metadata": {
        "id": "VTDUAbtzN4z2"
      },
      "execution_count": 64,
      "outputs": []
    },
    {
      "cell_type": "code",
      "source": [
        "b = solve(5)"
      ],
      "metadata": {
        "colab": {
          "base_uri": "https://localhost:8080/"
        },
        "id": "Ab_uqBryN9wS",
        "outputId": "8caf0406-93d7-4a38-8b81-1821c4d869d3"
      },
      "execution_count": 65,
      "outputs": [
        {
          "output_type": "stream",
          "name": "stdout",
          "text": [
            "10\n"
          ]
        }
      ]
    },
    {
      "cell_type": "code",
      "source": [
        "print(b)"
      ],
      "metadata": {
        "colab": {
          "base_uri": "https://localhost:8080/"
        },
        "id": "OAhG09P_OBoX",
        "outputId": "5eacd016-f176-429f-93ae-4c810d49c8b4"
      },
      "execution_count": 66,
      "outputs": [
        {
          "output_type": "stream",
          "name": "stdout",
          "text": [
            "1\n"
          ]
        }
      ]
    },
    {
      "cell_type": "code",
      "source": [
        "def sample():\n",
        "  print(\"Hi\")\n",
        "  return 1\n",
        "  print(\"Bye\")\n",
        "  print(\"AJ\")"
      ],
      "metadata": {
        "id": "oVpGlUIiOYOt"
      },
      "execution_count": 69,
      "outputs": []
    },
    {
      "cell_type": "code",
      "source": [
        "ans = sample()"
      ],
      "metadata": {
        "colab": {
          "base_uri": "https://localhost:8080/"
        },
        "id": "daqbGgIdOoeN",
        "outputId": "8664fa21-7777-4af2-e35e-5e9bc6f93247"
      },
      "execution_count": 70,
      "outputs": [
        {
          "output_type": "stream",
          "name": "stdout",
          "text": [
            "Hi\n"
          ]
        }
      ]
    },
    {
      "cell_type": "code",
      "source": [
        "print(\"aj\")"
      ],
      "metadata": {
        "colab": {
          "base_uri": "https://localhost:8080/"
        },
        "id": "PdU6WsarOqVU",
        "outputId": "d07dc0a2-aca4-4d63-cf1a-1e560d0cc61d"
      },
      "execution_count": 71,
      "outputs": [
        {
          "output_type": "stream",
          "name": "stdout",
          "text": [
            "aj\n"
          ]
        }
      ]
    },
    {
      "cell_type": "code",
      "source": [
        "type(1)"
      ],
      "metadata": {
        "colab": {
          "base_uri": "https://localhost:8080/"
        },
        "id": "5pXGDuZzPHYQ",
        "outputId": "d29182bb-26dc-4ab9-89ff-81c3f47ae208"
      },
      "execution_count": 72,
      "outputs": [
        {
          "output_type": "execute_result",
          "data": {
            "text/plain": [
              "int"
            ]
          },
          "metadata": {},
          "execution_count": 72
        }
      ]
    },
    {
      "cell_type": "code",
      "source": [
        "a = max(4,7,3,1)\n",
        "print(a)"
      ],
      "metadata": {
        "colab": {
          "base_uri": "https://localhost:8080/"
        },
        "id": "1jUaw7VNPJ3n",
        "outputId": "f5885753-bf0f-42be-af22-1a228de9d799"
      },
      "execution_count": 73,
      "outputs": [
        {
          "output_type": "stream",
          "name": "stdout",
          "text": [
            "7\n"
          ]
        }
      ]
    },
    {
      "cell_type": "code",
      "source": [
        "#Docstrings"
      ],
      "metadata": {
        "id": "E-dTEx5HPYDg"
      },
      "execution_count": 75,
      "outputs": []
    },
    {
      "cell_type": "code",
      "source": [
        "def add_values(a,b):\n",
        "  res = a+b\n",
        "  print(res)"
      ],
      "metadata": {
        "id": "r9WMjmP-Pf0p"
      },
      "execution_count": 76,
      "outputs": []
    },
    {
      "cell_type": "code",
      "source": [
        "add_values(4,9)"
      ],
      "metadata": {
        "colab": {
          "base_uri": "https://localhost:8080/"
        },
        "id": "r7dAPzidPr0D",
        "outputId": "0dc0a161-0a65-481c-9d1d-52e556465626"
      },
      "execution_count": 77,
      "outputs": [
        {
          "output_type": "stream",
          "name": "stdout",
          "text": [
            "13\n"
          ]
        }
      ]
    },
    {
      "cell_type": "code",
      "source": [
        "add_values(\"x\", \"y\")"
      ],
      "metadata": {
        "colab": {
          "base_uri": "https://localhost:8080/"
        },
        "id": "R2AADnGIP16Z",
        "outputId": "33951bff-8459-49d2-e0ae-c0be85d2f828"
      },
      "execution_count": 78,
      "outputs": [
        {
          "output_type": "stream",
          "name": "stdout",
          "text": [
            "xy\n"
          ]
        }
      ]
    },
    {
      "cell_type": "code",
      "source": [
        "\"x\"+\"y\" #concatenation"
      ],
      "metadata": {
        "colab": {
          "base_uri": "https://localhost:8080/",
          "height": 35
        },
        "id": "Ib1DgTSxP9zF",
        "outputId": "c290b564-45d2-436a-aae6-9b1c9e327110"
      },
      "execution_count": 80,
      "outputs": [
        {
          "output_type": "execute_result",
          "data": {
            "text/plain": [
              "'xy'"
            ],
            "application/vnd.google.colaboratory.intrinsic+json": {
              "type": "string"
            }
          },
          "metadata": {},
          "execution_count": 80
        }
      ]
    },
    {
      "cell_type": "code",
      "source": [
        "add_values(\"a\", 4)"
      ],
      "metadata": {
        "colab": {
          "base_uri": "https://localhost:8080/",
          "height": 263
        },
        "id": "NZyCJtOZP_hl",
        "outputId": "bc597f82-8a35-4fcf-8607-142ec8e25490"
      },
      "execution_count": 81,
      "outputs": [
        {
          "output_type": "error",
          "ename": "TypeError",
          "evalue": "ignored",
          "traceback": [
            "\u001b[0;31m---------------------------------------------------------------------------\u001b[0m",
            "\u001b[0;31mTypeError\u001b[0m                                 Traceback (most recent call last)",
            "\u001b[0;32m<ipython-input-81-52a7e09f9ff6>\u001b[0m in \u001b[0;36m<cell line: 1>\u001b[0;34m()\u001b[0m\n\u001b[0;32m----> 1\u001b[0;31m \u001b[0madd_values\u001b[0m\u001b[0;34m(\u001b[0m\u001b[0;34m\"a\"\u001b[0m\u001b[0;34m,\u001b[0m \u001b[0;36m4\u001b[0m\u001b[0;34m)\u001b[0m\u001b[0;34m\u001b[0m\u001b[0;34m\u001b[0m\u001b[0m\n\u001b[0m",
            "\u001b[0;32m<ipython-input-76-28cb315a382a>\u001b[0m in \u001b[0;36madd_values\u001b[0;34m(a, b)\u001b[0m\n\u001b[1;32m      1\u001b[0m \u001b[0;32mdef\u001b[0m \u001b[0madd_values\u001b[0m\u001b[0;34m(\u001b[0m\u001b[0ma\u001b[0m\u001b[0;34m,\u001b[0m\u001b[0mb\u001b[0m\u001b[0;34m)\u001b[0m\u001b[0;34m:\u001b[0m\u001b[0;34m\u001b[0m\u001b[0;34m\u001b[0m\u001b[0m\n\u001b[0;32m----> 2\u001b[0;31m   \u001b[0mres\u001b[0m \u001b[0;34m=\u001b[0m \u001b[0ma\u001b[0m\u001b[0;34m+\u001b[0m\u001b[0mb\u001b[0m\u001b[0;34m\u001b[0m\u001b[0;34m\u001b[0m\u001b[0m\n\u001b[0m\u001b[1;32m      3\u001b[0m   \u001b[0mprint\u001b[0m\u001b[0;34m(\u001b[0m\u001b[0mres\u001b[0m\u001b[0;34m)\u001b[0m\u001b[0;34m\u001b[0m\u001b[0;34m\u001b[0m\u001b[0m\n",
            "\u001b[0;31mTypeError\u001b[0m: can only concatenate str (not \"int\") to str"
          ]
        }
      ]
    },
    {
      "cell_type": "code",
      "source": [
        "def add_values(a,b):\n",
        "\n",
        "  '''\n",
        "  Arguments:\n",
        "  a: int or str\n",
        "  b: int or str\n",
        "\n",
        "  Note: please do not enter diff data types in one function call. Either call it with both strings, or with both int\n",
        "\n",
        "  output:\n",
        "  str + str --> concatenation\n",
        "  int + int --> addition\n",
        "  '''\n",
        "\n",
        "  res = a+b\n",
        "  print(res)\n"
      ],
      "metadata": {
        "id": "ZVoVDJ5TQOyy"
      },
      "execution_count": 82,
      "outputs": []
    },
    {
      "cell_type": "code",
      "source": [
        "add_values(4,6)"
      ],
      "metadata": {
        "colab": {
          "base_uri": "https://localhost:8080/"
        },
        "id": "_ef1dgBWQ4Lt",
        "outputId": "1570ab3c-b647-4041-c164-01d67a7c8934"
      },
      "execution_count": 83,
      "outputs": [
        {
          "output_type": "stream",
          "name": "stdout",
          "text": [
            "10\n"
          ]
        }
      ]
    },
    {
      "cell_type": "code",
      "source": [
        "help(add_values)"
      ],
      "metadata": {
        "colab": {
          "base_uri": "https://localhost:8080/"
        },
        "id": "lwGCJkcCQ6hw",
        "outputId": "e717fc30-16ca-4082-cf71-de5bb26d4c68"
      },
      "execution_count": 84,
      "outputs": [
        {
          "output_type": "stream",
          "name": "stdout",
          "text": [
            "Help on function add_values in module __main__:\n",
            "\n",
            "add_values(a, b)\n",
            "    Arguments:\n",
            "    a: int or str\n",
            "    b: int or str\n",
            "    \n",
            "    Note: please do not enter diff data types in one function call. Either call it with both strings, or with both int\n",
            "    \n",
            "    output:\n",
            "    str + str --> concatenation\n",
            "    int + int --> addition\n",
            "\n"
          ]
        }
      ]
    },
    {
      "cell_type": "code",
      "source": [
        "#Quiz\n",
        "def do_something(n):\n",
        "    total = 0\n",
        "    i = 1\n",
        "    while i <= n:\n",
        "        total += i\n",
        "        i += 1\n",
        "\n",
        "    return total\n",
        "\n",
        "print(do_something(5))"
      ],
      "metadata": {
        "colab": {
          "base_uri": "https://localhost:8080/"
        },
        "id": "v4yOOM33RDs6",
        "outputId": "682e186f-24e3-422a-e610-6778fbccf7b8"
      },
      "execution_count": 85,
      "outputs": [
        {
          "output_type": "stream",
          "name": "stdout",
          "text": [
            "15\n"
          ]
        }
      ]
    },
    {
      "cell_type": "code",
      "source": [],
      "metadata": {
        "id": "vJbUnQ6AR26X"
      },
      "execution_count": null,
      "outputs": []
    }
  ]
}