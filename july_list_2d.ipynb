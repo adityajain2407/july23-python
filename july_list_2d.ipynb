{
  "nbformat": 4,
  "nbformat_minor": 0,
  "metadata": {
    "colab": {
      "provenance": [],
      "authorship_tag": "ABX9TyMZg5VavkHWpdBRy6niQCIc",
      "include_colab_link": true
    },
    "kernelspec": {
      "name": "python3",
      "display_name": "Python 3"
    },
    "language_info": {
      "name": "python"
    }
  },
  "cells": [
    {
      "cell_type": "markdown",
      "metadata": {
        "id": "view-in-github",
        "colab_type": "text"
      },
      "source": [
        "<a href=\"https://colab.research.google.com/github/adityajain2407/july23-python/blob/main/july_list_2d.ipynb\" target=\"_parent\"><img src=\"https://colab.research.google.com/assets/colab-badge.svg\" alt=\"Open In Colab\"/></a>"
      ]
    },
    {
      "cell_type": "markdown",
      "source": [
        "Rotate a list by 1 element.\n",
        "\n",
        "```[1, 2, 3, 4, 5]``` -> last element is removed and added to the start.\n",
        "\n",
        "```[5, 1, 2, 3, 4]```"
      ],
      "metadata": {
        "id": "_816neMSbU9L"
      }
    },
    {
      "cell_type": "code",
      "source": [],
      "metadata": {
        "id": "zd_m34hSb3ku"
      },
      "execution_count": null,
      "outputs": []
    },
    {
      "cell_type": "code",
      "execution_count": 1,
      "metadata": {
        "colab": {
          "base_uri": "https://localhost:8080/"
        },
        "id": "QxM1WCGsWW0K",
        "outputId": "58f7af81-0913-4a66-b0ea-874bdaab0f26"
      },
      "outputs": [
        {
          "output_type": "stream",
          "name": "stdout",
          "text": [
            "[5, 1, 2, 3, 4]\n"
          ]
        }
      ],
      "source": [
        "a = [1, 2, 3, 4, 5]\n",
        "n = len(a)\n",
        "\n",
        "last_elem = a[-1]\n",
        "remaining_list = a[0:n-1]\n",
        "\n",
        "ans = [last_elem] + remaining_list\n",
        "\n",
        "print(ans)"
      ]
    },
    {
      "cell_type": "markdown",
      "source": [
        "* ```list.pop()``` removes and returns an element at a particular index.\n",
        "* ```list.remove()``` removes a particular value from a list."
      ],
      "metadata": {
        "id": "bqfbX_6mch3B"
      }
    },
    {
      "cell_type": "code",
      "source": [
        "a = [5,7,2,6,9]"
      ],
      "metadata": {
        "id": "8qDLPpvBcOld"
      },
      "execution_count": 8,
      "outputs": []
    },
    {
      "cell_type": "code",
      "source": [
        "print(a)"
      ],
      "metadata": {
        "colab": {
          "base_uri": "https://localhost:8080/"
        },
        "id": "b9PzLTXDcpQi",
        "outputId": "6de71ec1-8857-48a6-d81f-2e81be9c2c5f"
      },
      "execution_count": 9,
      "outputs": [
        {
          "output_type": "stream",
          "name": "stdout",
          "text": [
            "[5, 7, 2, 6, 9]\n"
          ]
        }
      ]
    },
    {
      "cell_type": "code",
      "source": [
        "elem = a.pop(1) #removed an elem present at index 1 in the list"
      ],
      "metadata": {
        "id": "m0piPGLhcs-B"
      },
      "execution_count": 10,
      "outputs": []
    },
    {
      "cell_type": "code",
      "source": [
        "print(elem)"
      ],
      "metadata": {
        "colab": {
          "base_uri": "https://localhost:8080/"
        },
        "id": "xA1sS302c2Uh",
        "outputId": "33bf7d1e-95cb-4387-fc35-78f9ce6fbd1d"
      },
      "execution_count": 11,
      "outputs": [
        {
          "output_type": "stream",
          "name": "stdout",
          "text": [
            "7\n"
          ]
        }
      ]
    },
    {
      "cell_type": "code",
      "source": [
        "print(a)"
      ],
      "metadata": {
        "colab": {
          "base_uri": "https://localhost:8080/"
        },
        "id": "9hX-Q2Fmc31A",
        "outputId": "3f2fc433-6c40-4081-f385-03e5f3d35e04"
      },
      "execution_count": 12,
      "outputs": [
        {
          "output_type": "stream",
          "name": "stdout",
          "text": [
            "[5, 2, 6, 9]\n"
          ]
        }
      ]
    },
    {
      "cell_type": "markdown",
      "source": [
        "* ```.remove()``` removes the value from a list based on values.\n",
        "* It removes the first occourance of an element."
      ],
      "metadata": {
        "id": "tBwOva9RdOZr"
      }
    },
    {
      "cell_type": "code",
      "source": [
        "a = [1, 2, 3, 4, 5, 4, 4, 4, 5]"
      ],
      "metadata": {
        "id": "dFfBxlFedEvx"
      },
      "execution_count": 13,
      "outputs": []
    },
    {
      "cell_type": "code",
      "source": [
        "a.remove(4)"
      ],
      "metadata": {
        "id": "QgSprpA7dWSE"
      },
      "execution_count": 14,
      "outputs": []
    },
    {
      "cell_type": "code",
      "source": [
        "print(a)"
      ],
      "metadata": {
        "colab": {
          "base_uri": "https://localhost:8080/"
        },
        "id": "pGwwoltvdYlm",
        "outputId": "11ad98de-b798-437a-dd4c-4d31973bbad5"
      },
      "execution_count": 15,
      "outputs": [
        {
          "output_type": "stream",
          "name": "stdout",
          "text": [
            "[1, 2, 3, 5, 4, 4, 4, 5]\n"
          ]
        }
      ]
    },
    {
      "cell_type": "code",
      "source": [
        "a.remove(100)"
      ],
      "metadata": {
        "colab": {
          "base_uri": "https://localhost:8080/",
          "height": 176
        },
        "id": "e6lDuJh-dfZH",
        "outputId": "bfe0179c-0de8-448e-a048-6f166e52eb92"
      },
      "execution_count": 16,
      "outputs": [
        {
          "output_type": "error",
          "ename": "ValueError",
          "evalue": "ignored",
          "traceback": [
            "\u001b[0;31m---------------------------------------------------------------------------\u001b[0m",
            "\u001b[0;31mValueError\u001b[0m                                Traceback (most recent call last)",
            "\u001b[0;32m<ipython-input-16-5fad16023209>\u001b[0m in \u001b[0;36m<cell line: 1>\u001b[0;34m()\u001b[0m\n\u001b[0;32m----> 1\u001b[0;31m \u001b[0ma\u001b[0m\u001b[0;34m.\u001b[0m\u001b[0mremove\u001b[0m\u001b[0;34m(\u001b[0m\u001b[0;36m100\u001b[0m\u001b[0;34m)\u001b[0m\u001b[0;34m\u001b[0m\u001b[0;34m\u001b[0m\u001b[0m\n\u001b[0m",
            "\u001b[0;31mValueError\u001b[0m: list.remove(x): x not in list"
          ]
        }
      ]
    },
    {
      "cell_type": "code",
      "source": [
        "#index()"
      ],
      "metadata": {
        "id": "fgGEKXEbdvER"
      },
      "execution_count": 17,
      "outputs": []
    },
    {
      "cell_type": "markdown",
      "source": [
        "* ```list.index()``` method.\n",
        "* Returns the index of an element corresponding to a particular value.\n",
        "* If the list has multiple occourances of that element it will return the index of the first element that matches the value passed."
      ],
      "metadata": {
        "id": "emTpPkZod44F"
      }
    },
    {
      "cell_type": "code",
      "source": [
        "a = [5,7,2,6,9]\n",
        "\n",
        "ind5 = a.index(5)\n",
        "print(ind5)"
      ],
      "metadata": {
        "colab": {
          "base_uri": "https://localhost:8080/"
        },
        "id": "zd4Z6YUvd1p8",
        "outputId": "7d648228-238e-47de-9c89-d2e24650f05a"
      },
      "execution_count": 18,
      "outputs": [
        {
          "output_type": "stream",
          "name": "stdout",
          "text": [
            "0\n"
          ]
        }
      ]
    },
    {
      "cell_type": "code",
      "source": [
        "a = [1, 2, 3, 4, 5, 4, 4, 4, 5]\n",
        "ind4 = a.index(4)\n",
        "print(ind4)"
      ],
      "metadata": {
        "colab": {
          "base_uri": "https://localhost:8080/"
        },
        "id": "0iLX56I4eVdq",
        "outputId": "ab283bf1-d93d-40cb-a258-c5f5152cda57"
      },
      "execution_count": 19,
      "outputs": [
        {
          "output_type": "stream",
          "name": "stdout",
          "text": [
            "3\n"
          ]
        }
      ]
    },
    {
      "cell_type": "code",
      "source": [
        "#count()\n",
        "a = [1, 1, 1, 2, 2, 2, 5, 6, 1, 7, 3, 4]\n",
        "ans = a.count(1)\n",
        "print(ans)"
      ],
      "metadata": {
        "colab": {
          "base_uri": "https://localhost:8080/"
        },
        "id": "L_XBwfJUeccs",
        "outputId": "9c1aa067-3c68-4cc2-ed82-cd4102de5863"
      },
      "execution_count": 20,
      "outputs": [
        {
          "output_type": "stream",
          "name": "stdout",
          "text": [
            "4\n"
          ]
        }
      ]
    },
    {
      "cell_type": "code",
      "source": [
        "print(a.count(2))"
      ],
      "metadata": {
        "colab": {
          "base_uri": "https://localhost:8080/"
        },
        "id": "2lMds8Rne-Ku",
        "outputId": "ffa7f3de-5043-4297-90bb-94baf7ceae9e"
      },
      "execution_count": 21,
      "outputs": [
        {
          "output_type": "stream",
          "name": "stdout",
          "text": [
            "3\n"
          ]
        }
      ]
    },
    {
      "cell_type": "code",
      "source": [
        "#Write a program to print the reverse of a list"
      ],
      "metadata": {
        "id": "WyxKsmzDfHx-"
      },
      "execution_count": 22,
      "outputs": []
    },
    {
      "cell_type": "code",
      "source": [
        "a = [5,7,2,6,9]\n",
        "a[::-1]"
      ],
      "metadata": {
        "colab": {
          "base_uri": "https://localhost:8080/"
        },
        "id": "WGyOqZVKfMPe",
        "outputId": "81df121e-a26d-46c2-b1c1-097c02928f2d"
      },
      "execution_count": 23,
      "outputs": [
        {
          "output_type": "execute_result",
          "data": {
            "text/plain": [
              "[9, 6, 2, 7, 5]"
            ]
          },
          "metadata": {},
          "execution_count": 23
        }
      ]
    },
    {
      "cell_type": "code",
      "source": [
        "a = [5,7,2,6,9]\n",
        "\n",
        "a.reverse() #reverses the original list itself\n",
        "print(a)"
      ],
      "metadata": {
        "colab": {
          "base_uri": "https://localhost:8080/"
        },
        "id": "g7gyvY0wfXsG",
        "outputId": "c145d14f-cb77-4cc0-df06-c659c761cd96"
      },
      "execution_count": 24,
      "outputs": [
        {
          "output_type": "stream",
          "name": "stdout",
          "text": [
            "[9, 6, 2, 7, 5]\n"
          ]
        }
      ]
    },
    {
      "cell_type": "code",
      "source": [
        "a = [5,7,2,6,9]\n",
        "a[::-1]"
      ],
      "metadata": {
        "colab": {
          "base_uri": "https://localhost:8080/"
        },
        "id": "YO3SODDRfd7i",
        "outputId": "b43f8302-a27e-4770-fd77-7de5e7b847f2"
      },
      "execution_count": 25,
      "outputs": [
        {
          "output_type": "execute_result",
          "data": {
            "text/plain": [
              "[9, 6, 2, 7, 5]"
            ]
          },
          "metadata": {},
          "execution_count": 25
        }
      ]
    },
    {
      "cell_type": "code",
      "source": [
        "print(a)"
      ],
      "metadata": {
        "colab": {
          "base_uri": "https://localhost:8080/"
        },
        "id": "80YZZC3gfn2l",
        "outputId": "a58e9677-912d-45d0-ada0-5a9fcb4b6292"
      },
      "execution_count": 26,
      "outputs": [
        {
          "output_type": "stream",
          "name": "stdout",
          "text": [
            "[5, 7, 2, 6, 9]\n"
          ]
        }
      ]
    },
    {
      "cell_type": "code",
      "source": [
        "#reversed()\n",
        "\n",
        "a = [5,7,2,6,9]\n",
        "\n",
        "#a[::-1]\n",
        "ans = list(reversed(a))\n",
        "print(ans)"
      ],
      "metadata": {
        "colab": {
          "base_uri": "https://localhost:8080/"
        },
        "id": "0KgckPGUfolD",
        "outputId": "95bb4d13-d5d5-4955-e373-accc16098378"
      },
      "execution_count": 28,
      "outputs": [
        {
          "output_type": "stream",
          "name": "stdout",
          "text": [
            "[9, 6, 2, 7, 5]\n"
          ]
        }
      ]
    },
    {
      "cell_type": "code",
      "source": [
        "print(a)"
      ],
      "metadata": {
        "colab": {
          "base_uri": "https://localhost:8080/"
        },
        "id": "H2EIhquaf4nT",
        "outputId": "f4460e31-4c01-4e56-980c-fa2a6e048141"
      },
      "execution_count": 29,
      "outputs": [
        {
          "output_type": "stream",
          "name": "stdout",
          "text": [
            "[5, 7, 2, 6, 9]\n"
          ]
        }
      ]
    },
    {
      "cell_type": "code",
      "source": [
        "#List 2D"
      ],
      "metadata": {
        "id": "Cn02LGUwf_u-"
      },
      "execution_count": 30,
      "outputs": []
    },
    {
      "cell_type": "code",
      "source": [
        "a = [ [1,2,3] , [4,5,6] , [7,8,9] ]\n",
        "\n",
        "print(a)"
      ],
      "metadata": {
        "colab": {
          "base_uri": "https://localhost:8080/"
        },
        "id": "pm3EZh86ggf5",
        "outputId": "4f4e466e-14a2-4073-9a62-222fb041b8d8"
      },
      "execution_count": 31,
      "outputs": [
        {
          "output_type": "stream",
          "name": "stdout",
          "text": [
            "[[1, 2, 3], [4, 5, 6], [7, 8, 9]]\n"
          ]
        }
      ]
    },
    {
      "cell_type": "code",
      "source": [
        "a = [\n",
        "    [1,2,3] ,\n",
        "    [4,5,6] ,\n",
        "    [7,8,9]\n",
        "    ]\n",
        "\n",
        "print(a)"
      ],
      "metadata": {
        "colab": {
          "base_uri": "https://localhost:8080/"
        },
        "id": "EmFsh_ZhlTlg",
        "outputId": "5b55404f-da23-4f39-cf1c-bae80a36022d"
      },
      "execution_count": 32,
      "outputs": [
        {
          "output_type": "stream",
          "name": "stdout",
          "text": [
            "[[1, 2, 3], [4, 5, 6], [7, 8, 9]]\n"
          ]
        }
      ]
    },
    {
      "cell_type": "code",
      "source": [
        "rows = len(a)\n",
        "print(rows)"
      ],
      "metadata": {
        "colab": {
          "base_uri": "https://localhost:8080/"
        },
        "id": "HNGYYSvOle82",
        "outputId": "9704ef24-c582-483c-defa-ffd18dc30c47"
      },
      "execution_count": 33,
      "outputs": [
        {
          "output_type": "stream",
          "name": "stdout",
          "text": [
            "3\n"
          ]
        }
      ]
    },
    {
      "cell_type": "code",
      "source": [
        "cols = len(a[0])\n",
        "print(cols)"
      ],
      "metadata": {
        "colab": {
          "base_uri": "https://localhost:8080/"
        },
        "id": "L5LcSgvbllv9",
        "outputId": "b522070c-2dec-469f-87c0-679715ee60fe"
      },
      "execution_count": 35,
      "outputs": [
        {
          "output_type": "stream",
          "name": "stdout",
          "text": [
            "3\n"
          ]
        }
      ]
    },
    {
      "cell_type": "code",
      "source": [
        "print(a[1])"
      ],
      "metadata": {
        "colab": {
          "base_uri": "https://localhost:8080/"
        },
        "id": "u4iWZArSloP8",
        "outputId": "060bcf95-fef2-4eb9-a8fa-56382bf73678"
      },
      "execution_count": 36,
      "outputs": [
        {
          "output_type": "stream",
          "name": "stdout",
          "text": [
            "[4, 5, 6]\n"
          ]
        }
      ]
    },
    {
      "cell_type": "code",
      "source": [
        "print(a[0])"
      ],
      "metadata": {
        "colab": {
          "base_uri": "https://localhost:8080/"
        },
        "id": "HE4hkh1clyoE",
        "outputId": "6f07dbec-79e9-4438-f646-8d8f460805be"
      },
      "execution_count": 37,
      "outputs": [
        {
          "output_type": "stream",
          "name": "stdout",
          "text": [
            "[1, 2, 3]\n"
          ]
        }
      ]
    },
    {
      "cell_type": "code",
      "source": [
        "print(a[0][2])"
      ],
      "metadata": {
        "colab": {
          "base_uri": "https://localhost:8080/"
        },
        "id": "ATWfqjtRl6dA",
        "outputId": "d11e052b-50d5-4728-e6fc-422364df4866"
      },
      "execution_count": 38,
      "outputs": [
        {
          "output_type": "stream",
          "name": "stdout",
          "text": [
            "3\n"
          ]
        }
      ]
    },
    {
      "cell_type": "code",
      "source": [
        "print(a[2][1])"
      ],
      "metadata": {
        "colab": {
          "base_uri": "https://localhost:8080/"
        },
        "id": "wqC5M6EimHxG",
        "outputId": "772f63ae-ce47-4b39-f349-8e35bae44eaa"
      },
      "execution_count": 39,
      "outputs": [
        {
          "output_type": "stream",
          "name": "stdout",
          "text": [
            "8\n"
          ]
        }
      ]
    },
    {
      "cell_type": "code",
      "source": [
        "#doubt\n",
        "\n",
        "a = [2, [3,4]]\n",
        "print(a)"
      ],
      "metadata": {
        "colab": {
          "base_uri": "https://localhost:8080/"
        },
        "id": "4tohfhG1mQrp",
        "outputId": "4e5968e4-106b-48a1-d370-32f86ca5e6cc"
      },
      "execution_count": 40,
      "outputs": [
        {
          "output_type": "stream",
          "name": "stdout",
          "text": [
            "[2, [3, 4]]\n"
          ]
        }
      ]
    },
    {
      "cell_type": "code",
      "source": [
        "a = [2, 4.5, \"AJ\", [5,6]]\n",
        "type(a)"
      ],
      "metadata": {
        "colab": {
          "base_uri": "https://localhost:8080/"
        },
        "id": "Tn_Uu7UznVaQ",
        "outputId": "9fd50eb0-0192-4e53-926e-549bc3b65bfd"
      },
      "execution_count": 41,
      "outputs": [
        {
          "output_type": "execute_result",
          "data": {
            "text/plain": [
              "list"
            ]
          },
          "metadata": {},
          "execution_count": 41
        }
      ]
    },
    {
      "cell_type": "code",
      "source": [
        "len(a)"
      ],
      "metadata": {
        "colab": {
          "base_uri": "https://localhost:8080/"
        },
        "id": "99z2trGRneCM",
        "outputId": "6be01add-895e-4c28-ec9d-ea0f086edd16"
      },
      "execution_count": 42,
      "outputs": [
        {
          "output_type": "execute_result",
          "data": {
            "text/plain": [
              "4"
            ]
          },
          "metadata": {},
          "execution_count": 42
        }
      ]
    },
    {
      "cell_type": "code",
      "source": [
        "#iterating over a Matrix"
      ],
      "metadata": {
        "id": "Hw_pzjIhnirl"
      },
      "execution_count": 43,
      "outputs": []
    },
    {
      "cell_type": "code",
      "source": [
        "a = [5,7,3,8]"
      ],
      "metadata": {
        "id": "wOuniHPOqHuS"
      },
      "execution_count": 44,
      "outputs": []
    },
    {
      "cell_type": "code",
      "source": [
        "#way1\n",
        "n = len(a)\n",
        "for i in range(n):\n",
        "  print(a[i])"
      ],
      "metadata": {
        "colab": {
          "base_uri": "https://localhost:8080/"
        },
        "id": "wyQ3EPpjqOSE",
        "outputId": "3e3d54cf-3c94-4d33-9c16-b4bc988f49b5"
      },
      "execution_count": 45,
      "outputs": [
        {
          "output_type": "stream",
          "name": "stdout",
          "text": [
            "5\n",
            "7\n",
            "3\n",
            "8\n"
          ]
        }
      ]
    },
    {
      "cell_type": "code",
      "source": [
        "#way2\n",
        "\n",
        "for elem in a:\n",
        "  print(elem)"
      ],
      "metadata": {
        "colab": {
          "base_uri": "https://localhost:8080/"
        },
        "id": "WW1tNc_0qTNA",
        "outputId": "1d8164bf-b540-4355-ac7a-f87aea68a43f"
      },
      "execution_count": 46,
      "outputs": [
        {
          "output_type": "stream",
          "name": "stdout",
          "text": [
            "5\n",
            "7\n",
            "3\n",
            "8\n"
          ]
        }
      ]
    },
    {
      "cell_type": "code",
      "source": [
        "a = [[1, 2, 3], [4, 5, 6], [7, 8, 9]]"
      ],
      "metadata": {
        "id": "svu0FaK-qbC-"
      },
      "execution_count": 47,
      "outputs": []
    },
    {
      "cell_type": "code",
      "source": [
        "n = len(a)\n",
        "m = len(a[0])"
      ],
      "metadata": {
        "id": "QA1A0Ls3qhjr"
      },
      "execution_count": 48,
      "outputs": []
    },
    {
      "cell_type": "code",
      "source": [
        "for i in range(n):\n",
        "  print(a[i])"
      ],
      "metadata": {
        "colab": {
          "base_uri": "https://localhost:8080/"
        },
        "id": "1CZ7CeM8qmNv",
        "outputId": "2788006c-3b47-4d57-fab5-3ac7d098b22f"
      },
      "execution_count": 49,
      "outputs": [
        {
          "output_type": "stream",
          "name": "stdout",
          "text": [
            "[1, 2, 3]\n",
            "[4, 5, 6]\n",
            "[7, 8, 9]\n"
          ]
        }
      ]
    },
    {
      "cell_type": "code",
      "source": [
        "for i in range(n):\n",
        "  for j in range(m):\n",
        "    print(a[i][j])"
      ],
      "metadata": {
        "colab": {
          "base_uri": "https://localhost:8080/"
        },
        "id": "xQGzVqy8qsef",
        "outputId": "ad21c9f6-92ab-4471-8708-72a9c982e02a"
      },
      "execution_count": 50,
      "outputs": [
        {
          "output_type": "stream",
          "name": "stdout",
          "text": [
            "1\n",
            "2\n",
            "3\n",
            "4\n",
            "5\n",
            "6\n",
            "7\n",
            "8\n",
            "9\n"
          ]
        }
      ]
    },
    {
      "cell_type": "code",
      "source": [
        "for i in range(n):\n",
        "  for j in range(m):\n",
        "    print(a[i][j], end = \" \")\n",
        "\n",
        "  print()"
      ],
      "metadata": {
        "colab": {
          "base_uri": "https://localhost:8080/"
        },
        "id": "XMzwnXnTq28I",
        "outputId": "99a7b26f-fa6f-4757-bfcb-281885f63bee"
      },
      "execution_count": 51,
      "outputs": [
        {
          "output_type": "stream",
          "name": "stdout",
          "text": [
            "1 2 3 \n",
            "4 5 6 \n",
            "7 8 9 \n"
          ]
        }
      ]
    },
    {
      "cell_type": "code",
      "source": [
        "for i in range(n):\n",
        "  for j in range(m):\n",
        "    print(i,j, end = \" | \")\n",
        "\n",
        "  print()"
      ],
      "metadata": {
        "colab": {
          "base_uri": "https://localhost:8080/"
        },
        "id": "LAuhSLlgq-42",
        "outputId": "ea4b9fd2-27dc-4bd7-e7e3-789ed7cf77a6"
      },
      "execution_count": 53,
      "outputs": [
        {
          "output_type": "stream",
          "name": "stdout",
          "text": [
            "0 0 | 0 1 | 0 2 | \n",
            "1 0 | 1 1 | 1 2 | \n",
            "2 0 | 2 1 | 2 2 | \n"
          ]
        }
      ]
    },
    {
      "cell_type": "code",
      "source": [
        "#way2\n",
        "\n",
        "for row in a:\n",
        "  print(row)"
      ],
      "metadata": {
        "colab": {
          "base_uri": "https://localhost:8080/"
        },
        "id": "i7m-hgXHrKkq",
        "outputId": "8e2e2a73-52b0-454a-a0cc-5e8b8214121d"
      },
      "execution_count": 54,
      "outputs": [
        {
          "output_type": "stream",
          "name": "stdout",
          "text": [
            "[1, 2, 3]\n",
            "[4, 5, 6]\n",
            "[7, 8, 9]\n"
          ]
        }
      ]
    },
    {
      "cell_type": "code",
      "source": [
        "for row in a:\n",
        "\n",
        "  for elem in row:\n",
        "    print(elem, end = \" \")\n",
        "\n",
        "  print()"
      ],
      "metadata": {
        "colab": {
          "base_uri": "https://localhost:8080/"
        },
        "id": "OIpz-QzBrlf1",
        "outputId": "2641f9d2-c5ab-4917-d533-2a1af73e7c92"
      },
      "execution_count": 55,
      "outputs": [
        {
          "output_type": "stream",
          "name": "stdout",
          "text": [
            "1 2 3 \n",
            "4 5 6 \n",
            "7 8 9 \n"
          ]
        }
      ]
    },
    {
      "cell_type": "code",
      "source": [
        "random = [[1, 2, 3], [\"a\", \"b\", \"c\", \"d\", \"e\"], [4.5, 6.7]]\n",
        "\n",
        "for row in random:\n",
        "  for elem in row:\n",
        "    print(elem, end = \" \")\n",
        "\n",
        "  print()"
      ],
      "metadata": {
        "colab": {
          "base_uri": "https://localhost:8080/"
        },
        "id": "fHJUeEeHrwYY",
        "outputId": "b5ca9a7e-4b16-430e-ef1d-291a4dae4433"
      },
      "execution_count": 58,
      "outputs": [
        {
          "output_type": "stream",
          "name": "stdout",
          "text": [
            "1 2 3 \n",
            "a b c d e \n",
            "4.5 6.7 \n"
          ]
        }
      ]
    },
    {
      "cell_type": "markdown",
      "source": [
        "##**Question-4**\n",
        "Take a 3X3 matrix as an input from the user.\n",
        "\n",
        "Given this matrix.\n",
        "1. Calculate the sum of all the elements in the matrix.\n",
        "2. Calculate the sum of each row\n",
        "3. Calculate the sum of each column."
      ],
      "metadata": {
        "id": "cuJlWA-Ns7Tb"
      }
    },
    {
      "cell_type": "code",
      "source": [
        "#Take a 3X3 matrix as an input from the user."
      ],
      "metadata": {
        "id": "9B0PIxQjsYU6"
      },
      "execution_count": 59,
      "outputs": []
    },
    {
      "cell_type": "code",
      "source": [
        "row = []\n",
        "\n",
        "for i in range(3):\n",
        "  elem = int(input())\n",
        "  row.append(elem)"
      ],
      "metadata": {
        "colab": {
          "base_uri": "https://localhost:8080/"
        },
        "id": "LhYGkBFEtCXw",
        "outputId": "e0df29b7-5349-4b15-bbe7-0e4f4342aa2e"
      },
      "execution_count": 60,
      "outputs": [
        {
          "name": "stdout",
          "output_type": "stream",
          "text": [
            "4\n",
            "7\n",
            "5\n"
          ]
        }
      ]
    },
    {
      "cell_type": "code",
      "source": [
        "print(row)"
      ],
      "metadata": {
        "colab": {
          "base_uri": "https://localhost:8080/"
        },
        "id": "vt8BGhy_tJ91",
        "outputId": "459b1dd5-a1b5-458f-c7e8-729617324d5b"
      },
      "execution_count": 61,
      "outputs": [
        {
          "output_type": "stream",
          "name": "stdout",
          "text": [
            "[4, 7, 5]\n"
          ]
        }
      ]
    },
    {
      "cell_type": "code",
      "source": [
        "matrix = []\n",
        "\n",
        "for i in range(3):\n",
        "  row = []\n",
        "  for j in range(3):\n",
        "    elem = int(input())\n",
        "    row.append(elem)\n",
        "\n",
        "  matrix.append(row)\n",
        "\n",
        "print(matrix)"
      ],
      "metadata": {
        "colab": {
          "base_uri": "https://localhost:8080/"
        },
        "id": "VxTXOlUbtNTa",
        "outputId": "1051aa76-b8d3-46ff-dbdb-28385e7b906b"
      },
      "execution_count": 62,
      "outputs": [
        {
          "output_type": "stream",
          "name": "stdout",
          "text": [
            "4\n",
            "6\n",
            "3\n",
            "8\n",
            "9\n",
            "1\n",
            "2\n",
            "5\n",
            "0\n",
            "[[4, 6, 3], [8, 9, 1], [2, 5, 0]]\n"
          ]
        }
      ]
    },
    {
      "cell_type": "code",
      "source": [
        "#Calculate the sum of all the elements in the matrix.\n",
        "\n",
        "a = [ [1,2,3] , [4,5,6] , [7,8,9]]\n",
        "print(a)"
      ],
      "metadata": {
        "colab": {
          "base_uri": "https://localhost:8080/"
        },
        "id": "l7wLnwiotjD5",
        "outputId": "537d4a52-e621-43e5-a80f-23a4e46d04d7"
      },
      "execution_count": 63,
      "outputs": [
        {
          "output_type": "stream",
          "name": "stdout",
          "text": [
            "[[1, 2, 3], [4, 5, 6], [7, 8, 9]]\n"
          ]
        }
      ]
    },
    {
      "cell_type": "code",
      "source": [
        "n = len(a)\n",
        "m = len(a[0])\n",
        "sum = 0\n",
        "\n",
        "for i in range(n):\n",
        "  for j in range(m):\n",
        "    sum = sum + a[i][j]\n",
        "\n",
        "print(sum)"
      ],
      "metadata": {
        "colab": {
          "base_uri": "https://localhost:8080/"
        },
        "id": "7tv8IX84vDD2",
        "outputId": "503891c7-53be-4c44-da3d-bdbcb94f0300"
      },
      "execution_count": 64,
      "outputs": [
        {
          "output_type": "stream",
          "name": "stdout",
          "text": [
            "45\n"
          ]
        }
      ]
    },
    {
      "cell_type": "code",
      "source": [
        "#Calculate the sum of each row\n",
        "\n",
        "# op: row_sum = [6, 15, 24]"
      ],
      "metadata": {
        "id": "eZ4Yfa_yvZQ5"
      },
      "execution_count": 65,
      "outputs": []
    },
    {
      "cell_type": "code",
      "source": [
        "row_sum = [0, 0, 0] #initialization\n",
        "\n",
        "for i in range(n):\n",
        "\n",
        "  for j in range(m):\n",
        "    row_sum[i] = row_sum[i] + a[i][j]\n",
        "\n",
        "print(row_sum)"
      ],
      "metadata": {
        "colab": {
          "base_uri": "https://localhost:8080/"
        },
        "id": "fcMUcgAPvvKH",
        "outputId": "f77ceba1-c012-43f1-d0fc-1e9988c9199d"
      },
      "execution_count": 66,
      "outputs": [
        {
          "output_type": "stream",
          "name": "stdout",
          "text": [
            "[6, 15, 24]\n"
          ]
        }
      ]
    },
    {
      "cell_type": "code",
      "source": [
        "#Calculate the sum of each col\n",
        "\n",
        "# op: col_sum = [12, 15, 18]\n",
        "\n",
        "'''\n",
        "[1, 2, 3]\n",
        "[4, 5, 6]\n",
        "[7, 8, 9]\n",
        "'''"
      ],
      "metadata": {
        "colab": {
          "base_uri": "https://localhost:8080/",
          "height": 35
        },
        "id": "6mYPY_IiwPCS",
        "outputId": "db246908-5444-4315-a218-8f71ef7e2476"
      },
      "execution_count": 67,
      "outputs": [
        {
          "output_type": "execute_result",
          "data": {
            "text/plain": [
              "'\\n[1, 2, 3]\\n[4, 5, 6]\\n[7, 8, 9]\\n'"
            ],
            "application/vnd.google.colaboratory.intrinsic+json": {
              "type": "string"
            }
          },
          "metadata": {},
          "execution_count": 67
        }
      ]
    },
    {
      "cell_type": "code",
      "source": [
        "col_sum = [0, 0, 0] #initialization\n",
        "\n",
        "for i in range(n):\n",
        "\n",
        "  for j in range(m):\n",
        "    col_sum[j] = col_sum[j] + a[i][j]\n",
        "\n",
        "print(col_sum)"
      ],
      "metadata": {
        "colab": {
          "base_uri": "https://localhost:8080/"
        },
        "id": "m4WR1TmpxIho",
        "outputId": "76cbfb80-46a1-4d53-a8c3-d4ce01df1d29"
      },
      "execution_count": 68,
      "outputs": [
        {
          "output_type": "stream",
          "name": "stdout",
          "text": [
            "[12, 15, 18]\n"
          ]
        }
      ]
    },
    {
      "cell_type": "code",
      "source": [
        "#HW -->\n",
        "'''\n",
        "1. Re-write the above logic on your own\n",
        "2. You will check this using a dry run / check using pen-paper\n",
        "'''"
      ],
      "metadata": {
        "id": "bMk6m78txjRN"
      },
      "execution_count": null,
      "outputs": []
    }
  ]
}